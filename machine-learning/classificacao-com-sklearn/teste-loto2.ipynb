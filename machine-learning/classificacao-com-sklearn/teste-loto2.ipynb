{
 "cells": [
  {
   "cell_type": "code",
   "execution_count": 1,
   "id": "5562f007-e1bc-452b-ad6f-5fffd3b3f2f8",
   "metadata": {},
   "outputs": [
    {
     "name": "stdout",
     "output_type": "stream",
     "text": [
      "Opção 0: [[ 4  8 12 16 20 24 28]]\n",
      "Opção 1: [[ 4  8 12 15 19 23 27]]\n"
     ]
    }
   ],
   "source": [
    "import numpy as np\n",
    "import pandas as pd\n",
    "from sklearn.linear_model import LinearRegression\n",
    "\n",
    "# Suponha que temos um DataFrame com 30 dias e 7 medições por dia\n",
    "# Exemplo de estrutura dos dados:\n",
    "# | Dia  | Temp1 | Temp2 | Temp3 | Temp4 | Temp5 | Temp6 | Temp7 |\n",
    "# |------|-------|-------|-------|-------|-------|-------|-------|\n",
    "# |  1   |  12.5 | 14.2  | 15.8  | 16.5  | 17.1  | 16.8  | 15.5  |\n",
    "# |  2   |  13.0 | 14.8  | 16.1  | 17.0  | 17.5  | 17.2  | 16.0  |\n",
    "\n",
    "# Carregar os dados da planilha\n",
    "df = pd.read_csv(\"dados/dia_de_sorte.csv\")\n",
    "\n",
    "# Definir X (dias anteriores) e y (próximo dia)\n",
    "X = df.iloc[:-1, :].values  # Todos os dias, exceto o último (features)\n",
    "y = df.iloc[1:, :].values   # Temperaturas do dia seguinte (labels)\n",
    "\n",
    "# Criar e treinar o modelo\n",
    "modelo = LinearRegression()\n",
    "modelo.fit(X, y)\n",
    "\n",
    "# Previsão para o dia 31 (usando os dados do dia 30)\n",
    "dia_30 = df.iloc[-1, :].values.reshape(1, -1)\n",
    "previsao = modelo.predict(dia_30)\n",
    "\n",
    "#print(\"Previsão para o dia 31:\", previsao)\n",
    "\n",
    "opcao_randon_cima = np.round(previsao).astype(int)\n",
    "print(f'Opção 0: {opcao_randon_cima}')\n",
    "\n",
    "# Arredondando sempre para baixo\n",
    "opcao_randon_baixo = np.floor(previsao).astype(int)\n",
    "print(f'Opção 1: {opcao_randon_baixo}')\n"
   ]
  },
  {
   "cell_type": "code",
   "execution_count": null,
   "id": "4c96cd54-ffd6-4941-b1f6-3f5eb956bc2e",
   "metadata": {},
   "outputs": [],
   "source": []
  }
 ],
 "metadata": {
  "kernelspec": {
   "display_name": "Python 3 (ipykernel)",
   "language": "python",
   "name": "python3"
  },
  "language_info": {
   "codemirror_mode": {
    "name": "ipython",
    "version": 3
   },
   "file_extension": ".py",
   "mimetype": "text/x-python",
   "name": "python",
   "nbconvert_exporter": "python",
   "pygments_lexer": "ipython3",
   "version": "3.12.8"
  }
 },
 "nbformat": 4,
 "nbformat_minor": 5
}
