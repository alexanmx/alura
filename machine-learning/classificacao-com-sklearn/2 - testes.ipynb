{
 "cells": [
  {
   "cell_type": "code",
   "execution_count": 8,
   "id": "6aab1bb6-9650-43ab-bbf5-617100a668f9",
   "metadata": {},
   "outputs": [
    {
     "data": {
      "text/html": [
       "<div>\n",
       "<style scoped>\n",
       "    .dataframe tbody tr th:only-of-type {\n",
       "        vertical-align: middle;\n",
       "    }\n",
       "\n",
       "    .dataframe tbody tr th {\n",
       "        vertical-align: top;\n",
       "    }\n",
       "\n",
       "    .dataframe thead th {\n",
       "        text-align: right;\n",
       "    }\n",
       "</style>\n",
       "<table border=\"1\" class=\"dataframe\">\n",
       "  <thead>\n",
       "    <tr style=\"text-align: right;\">\n",
       "      <th></th>\n",
       "      <th>inicial</th>\n",
       "      <th>palestras</th>\n",
       "      <th>contato</th>\n",
       "      <th>comprou</th>\n",
       "      <th>patrocinio</th>\n",
       "    </tr>\n",
       "  </thead>\n",
       "  <tbody>\n",
       "    <tr>\n",
       "      <th>0</th>\n",
       "      <td>1</td>\n",
       "      <td>1</td>\n",
       "      <td>0</td>\n",
       "      <td>0</td>\n",
       "      <td>0</td>\n",
       "    </tr>\n",
       "    <tr>\n",
       "      <th>1</th>\n",
       "      <td>1</td>\n",
       "      <td>1</td>\n",
       "      <td>0</td>\n",
       "      <td>0</td>\n",
       "      <td>0</td>\n",
       "    </tr>\n",
       "    <tr>\n",
       "      <th>2</th>\n",
       "      <td>1</td>\n",
       "      <td>1</td>\n",
       "      <td>0</td>\n",
       "      <td>0</td>\n",
       "      <td>0</td>\n",
       "    </tr>\n",
       "    <tr>\n",
       "      <th>3</th>\n",
       "      <td>1</td>\n",
       "      <td>1</td>\n",
       "      <td>0</td>\n",
       "      <td>0</td>\n",
       "      <td>0</td>\n",
       "    </tr>\n",
       "    <tr>\n",
       "      <th>4</th>\n",
       "      <td>1</td>\n",
       "      <td>1</td>\n",
       "      <td>0</td>\n",
       "      <td>0</td>\n",
       "      <td>0</td>\n",
       "    </tr>\n",
       "  </tbody>\n",
       "</table>\n",
       "</div>"
      ],
      "text/plain": [
       "   inicial  palestras  contato  comprou  patrocinio\n",
       "0        1          1        0        0           0\n",
       "1        1          1        0        0           0\n",
       "2        1          1        0        0           0\n",
       "3        1          1        0        0           0\n",
       "4        1          1        0        0           0"
      ]
     },
     "execution_count": 8,
     "metadata": {},
     "output_type": "execute_result"
    }
   ],
   "source": [
    "# importar dados já formatado csv\n",
    "import pandas as pd\n",
    "\n",
    "# neste arquivo temos as colunas \"inicial\tpalestras\tcontato\tcomprou\tpatrocinio\"\n",
    "# cada linha representa um visitante no site\n",
    "# cada coluna representa o acesso a página correspondente (1=>acessou, 0=> não acessou)\n",
    "# \n",
    "uri = 'https://gist.githubusercontent.com/guilhermesilveira/b9dd8e4b62b9e22ebcb9c8e89c271de4/raw/c69ec4b708fba03c445397b6a361db4345c83d7a/tracking.csv'\n",
    "\n",
    "# ler arquivo\n",
    "dados = pd.read_csv(uri)\n",
    "\n",
    "# exibir primeiras linhas\n",
    "dados.head()\n"
   ]
  },
  {
   "cell_type": "code",
   "execution_count": 11,
   "id": "cdb021fb-41c6-40e8-a9c5-6d47d0268129",
   "metadata": {},
   "outputs": [
    {
     "data": {
      "text/plain": [
       "0    0\n",
       "1    0\n",
       "2    0\n",
       "3    0\n",
       "4    0\n",
       "Name: comprou, dtype: int64"
      ]
     },
     "execution_count": 11,
     "metadata": {},
     "output_type": "execute_result"
    }
   ],
   "source": [
    "# vamos tentar estimar se o usuário vai comprar ou não\n",
    "y = dados['comprou']\n",
    "y.head()\n"
   ]
  },
  {
   "cell_type": "code",
   "execution_count": 45,
   "id": "f78843f5-2b88-4427-8d47-a0a7e2215aba",
   "metadata": {},
   "outputs": [
    {
     "data": {
      "text/html": [
       "<div>\n",
       "<style scoped>\n",
       "    .dataframe tbody tr th:only-of-type {\n",
       "        vertical-align: middle;\n",
       "    }\n",
       "\n",
       "    .dataframe tbody tr th {\n",
       "        vertical-align: top;\n",
       "    }\n",
       "\n",
       "    .dataframe thead th {\n",
       "        text-align: right;\n",
       "    }\n",
       "</style>\n",
       "<table border=\"1\" class=\"dataframe\">\n",
       "  <thead>\n",
       "    <tr style=\"text-align: right;\">\n",
       "      <th></th>\n",
       "      <th>inicial</th>\n",
       "      <th>palestras</th>\n",
       "      <th>contato</th>\n",
       "      <th>patrocinio</th>\n",
       "    </tr>\n",
       "  </thead>\n",
       "  <tbody>\n",
       "    <tr>\n",
       "      <th>0</th>\n",
       "      <td>1</td>\n",
       "      <td>1</td>\n",
       "      <td>0</td>\n",
       "      <td>0</td>\n",
       "    </tr>\n",
       "    <tr>\n",
       "      <th>1</th>\n",
       "      <td>1</td>\n",
       "      <td>1</td>\n",
       "      <td>0</td>\n",
       "      <td>0</td>\n",
       "    </tr>\n",
       "    <tr>\n",
       "      <th>2</th>\n",
       "      <td>1</td>\n",
       "      <td>1</td>\n",
       "      <td>0</td>\n",
       "      <td>0</td>\n",
       "    </tr>\n",
       "    <tr>\n",
       "      <th>3</th>\n",
       "      <td>1</td>\n",
       "      <td>1</td>\n",
       "      <td>0</td>\n",
       "      <td>0</td>\n",
       "    </tr>\n",
       "    <tr>\n",
       "      <th>4</th>\n",
       "      <td>1</td>\n",
       "      <td>1</td>\n",
       "      <td>0</td>\n",
       "      <td>0</td>\n",
       "    </tr>\n",
       "  </tbody>\n",
       "</table>\n",
       "</div>"
      ],
      "text/plain": [
       "   inicial  palestras  contato  patrocinio\n",
       "0        1          1        0           0\n",
       "1        1          1        0           0\n",
       "2        1          1        0           0\n",
       "3        1          1        0           0\n",
       "4        1          1        0           0"
      ]
     },
     "execution_count": 45,
     "metadata": {},
     "output_type": "execute_result"
    }
   ],
   "source": [
    "x = dados[['inicial', 'palestras', 'contato', 'patrocinio']]\n",
    "x.head()"
   ]
  },
  {
   "cell_type": "code",
   "execution_count": 14,
   "id": "75efc870-67a9-4f3a-9b5b-f2cf872397d5",
   "metadata": {},
   "outputs": [
    {
     "data": {
      "text/plain": [
       "(99, 5)"
      ]
     },
     "execution_count": 14,
     "metadata": {},
     "output_type": "execute_result"
    }
   ],
   "source": [
    "dados.shape"
   ]
  },
  {
   "cell_type": "code",
   "execution_count": 19,
   "id": "477b4d9e-71de-4143-a45f-7fea27f8490c",
   "metadata": {},
   "outputs": [],
   "source": [
    "# vamos treinar o modelo"
   ]
  },
  {
   "cell_type": "code",
   "execution_count": 17,
   "id": "47d19924-4199-4bae-bd24-9705b1ebd1e5",
   "metadata": {},
   "outputs": [],
   "source": [
    "# não posso testar com dados de treino"
   ]
  },
  {
   "cell_type": "code",
   "execution_count": 18,
   "id": "1cbf409e-dfdf-41ef-b70f-ffb5b58998c1",
   "metadata": {},
   "outputs": [],
   "source": [
    "# separa quem é teste e quem é teste"
   ]
  },
  {
   "cell_type": "code",
   "execution_count": 20,
   "id": "5ac963fc-11a0-4589-9ce3-e7dc6b3db798",
   "metadata": {},
   "outputs": [],
   "source": [
    "# vamos sugerir que os primeiros 75 elementos é treino\n",
    "treino_x = x[:75]\n",
    "treino_y = y[:75]\n",
    "\n",
    "# e os testes são a partir do 76 elemento\n",
    "teste_x = x[75:]\n",
    "teste_y = y[75:]"
   ]
  },
  {
   "cell_type": "code",
   "execution_count": 47,
   "id": "dc9557e9-4e1a-4db5-9564-65d1886a75d4",
   "metadata": {},
   "outputs": [
    {
     "name": "stdout",
     "output_type": "stream",
     "text": [
      "Treinaremos com 75 elementos\n",
      "Testaremos com 24 elementos\n",
      "----------------------------\n",
      "A acurárica foi de 95.83%\n"
     ]
    }
   ],
   "source": [
    "from sklearn.svm import LinearSVC\n",
    "from sklearn.metrics import accuracy_score\n",
    "\n",
    "print(f'Treinaremos com {len(treino_x)} elementos')\n",
    "print(f'Testaremos com {len(teste_x)} elementos')\n",
    "print('----------------------------')\n",
    "\n",
    "# FASE DE TREINO\n",
    "modelo = LinearSVC()\n",
    "modelo.fit(treino_x, treino_y)\n",
    "\n",
    "# FASE DE TESTES\n",
    "previsoes = modelo.predict(teste_x)\n",
    "\n",
    "# FASE DE MÉTRICAS\n",
    "acuracia = accuracy_score(teste_y, previsoes) * 100\n",
    "print(f'A acurárica foi de {acuracia:.2f}%')"
   ]
  },
  {
   "cell_type": "code",
   "execution_count": 57,
   "id": "f6555605-9ede-4a23-b06e-1555370da4a5",
   "metadata": {},
   "outputs": [],
   "source": [
    "# Usando a biblioteca para separar treino e teste\n",
    "from sklearn.model_selection import train_test_split"
   ]
  },
  {
   "cell_type": "code",
   "execution_count": 58,
   "id": "6107e831-6d2e-4caa-ba99-35ad2a66b32e",
   "metadata": {},
   "outputs": [
    {
     "data": {
      "text/plain": [
       "[    inicial  palestras  contato  patrocinio\n",
       " 47        1          0        1           0\n",
       " 30        0          1        0           1\n",
       " 39        1          0        1           0\n",
       " 70        1          1        0           0\n",
       " 23        0          1        0           0\n",
       " ..      ...        ...      ...         ...\n",
       " 21        0          1        0           0\n",
       " 92        1          1        0           0\n",
       " 53        1          1        0           0\n",
       " 11        1          0        1           0\n",
       " 80        0          0        1           0\n",
       " \n",
       " [74 rows x 4 columns],\n",
       "     inicial  palestras  contato  patrocinio\n",
       " 86        1          1        0           0\n",
       " 19        0          1        0           0\n",
       " 10        1          1        0           0\n",
       " 51        1          1        0           0\n",
       " 68        1          0        1           0\n",
       " 74        0          0        1           0\n",
       " 45        0          0        1           0\n",
       " 25        1          1        1           0\n",
       " 46        1          0        1           0\n",
       " 36        1          0        1           0\n",
       " 32        0          0        1           0\n",
       " 3         1          1        0           0\n",
       " 44        0          0        1           0\n",
       " 63        0          1        0           0\n",
       " 13        0          0        1           0\n",
       " 69        1          1        0           0\n",
       " 42        0          1        0           0\n",
       " 82        0          0        1           0\n",
       " 27        1          0        1           0\n",
       " 65        0          1        1           0\n",
       " 37        0          0        1           0\n",
       " 56        1          0        1           1\n",
       " 1         1          1        0           0\n",
       " 50        1          1        0           0\n",
       " 8         1          1        0           0,\n",
       " 47    1\n",
       " 30    0\n",
       " 39    1\n",
       " 70    0\n",
       " 23    0\n",
       "      ..\n",
       " 21    0\n",
       " 92    0\n",
       " 53    0\n",
       " 11    1\n",
       " 80    0\n",
       " Name: comprou, Length: 74, dtype: int64,\n",
       " 86    0\n",
       " 19    0\n",
       " 10    1\n",
       " 51    0\n",
       " 68    1\n",
       " 74    0\n",
       " 45    0\n",
       " 25    1\n",
       " 46    1\n",
       " 36    1\n",
       " 32    0\n",
       " 3     0\n",
       " 44    0\n",
       " 63    0\n",
       " 13    0\n",
       " 69    0\n",
       " 42    0\n",
       " 82    0\n",
       " 27    1\n",
       " 65    1\n",
       " 37    0\n",
       " 56    1\n",
       " 1     0\n",
       " 50    0\n",
       " 8     0\n",
       " Name: comprou, dtype: int64]"
      ]
     },
     "execution_count": 58,
     "metadata": {},
     "output_type": "execute_result"
    }
   ],
   "source": [
    "train_test_split(x, y)"
   ]
  },
  {
   "cell_type": "code",
   "execution_count": 61,
   "id": "8fd3252d-f658-4303-8eeb-c1778c992697",
   "metadata": {},
   "outputs": [
    {
     "name": "stdout",
     "output_type": "stream",
     "text": [
      "Treinaremos com 75 elementos\n",
      "Testaremos com 25 elementos\n",
      "----------------------------\n"
     ]
    }
   ],
   "source": [
    "treino_X, teste_x, treino_y, teste_y = train_test_split(x, y)\n",
    "print(f'Treinaremos com {len(treino_x)} elementos')\n",
    "print(f'Testaremos com {len(teste_x)} elementos')\n",
    "print('----------------------------')"
   ]
  },
  {
   "cell_type": "code",
   "execution_count": 76,
   "id": "6b01d69a-231b-4e95-bc75-fe4e0fa7f88e",
   "metadata": {},
   "outputs": [
    {
     "name": "stdout",
     "output_type": "stream",
     "text": [
      "Treinaremos com 74 elementos\n",
      "Testaremos com 25 elementos\n",
      "----------------------------\n",
      "A acurárica foi de 96.00%\n"
     ]
    }
   ],
   "source": [
    "# Usando a biblioteca para separar treino e teste\n",
    "from sklearn.model_selection import train_test_split\n",
    "from sklearn.svm import LinearSVC\n",
    "from sklearn.metrics import accuracy_score\n",
    "\n",
    "SEED = 834\n",
    "treino_x, teste_x, treino_y, teste_y = train_test_split(x, y,  random_state=SEED, stratify=y)\n",
    "\n",
    "print(f'Treinaremos com {len(treino_x)} elementos')\n",
    "print(f'Testaremos com {len(teste_x)} elementos')\n",
    "print('----------------------------')\n",
    "\n",
    "modelo = LinearSVC()\n",
    "modelo.fit(treino_x, treino_y)\n",
    "previsoes = modelo.predict(teste_x)\n",
    "\n",
    "acuracia = accuracy_score(teste_y, previsoes) * 100\n",
    "print(f'A acurárica foi de {acuracia:.2f}%')"
   ]
  },
  {
   "cell_type": "code",
   "execution_count": 77,
   "id": "e0db27fe-0c03-44bc-9b1d-d323bb14c7ee",
   "metadata": {},
   "outputs": [
    {
     "data": {
      "text/plain": [
       "comprou\n",
       "0    49\n",
       "1    25\n",
       "Name: count, dtype: int64"
      ]
     },
     "execution_count": 77,
     "metadata": {},
     "output_type": "execute_result"
    }
   ],
   "source": [
    "treino_y.value_counts()"
   ]
  },
  {
   "cell_type": "code",
   "execution_count": 78,
   "id": "e9d6c287-51f7-4cb7-8f63-3738d1566c29",
   "metadata": {},
   "outputs": [
    {
     "data": {
      "text/plain": [
       "comprou\n",
       "0    17\n",
       "1     8\n",
       "Name: count, dtype: int64"
      ]
     },
     "execution_count": 78,
     "metadata": {},
     "output_type": "execute_result"
    }
   ],
   "source": [
    "teste_y.value_counts()"
   ]
  },
  {
   "cell_type": "code",
   "execution_count": null,
   "id": "ab190a1c-a6a4-4fbf-8baf-9a0dc5b217ed",
   "metadata": {},
   "outputs": [],
   "source": []
  }
 ],
 "metadata": {
  "kernelspec": {
   "display_name": "Python 3 (ipykernel)",
   "language": "python",
   "name": "python3"
  },
  "language_info": {
   "codemirror_mode": {
    "name": "ipython",
    "version": 3
   },
   "file_extension": ".py",
   "mimetype": "text/x-python",
   "name": "python",
   "nbconvert_exporter": "python",
   "pygments_lexer": "ipython3",
   "version": "3.12.8"
  }
 },
 "nbformat": 4,
 "nbformat_minor": 5
}
